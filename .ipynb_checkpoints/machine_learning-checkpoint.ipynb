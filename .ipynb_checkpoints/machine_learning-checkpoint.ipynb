{
 "cells": [
  {
   "cell_type": "code",
   "execution_count": 1,
   "metadata": {},
   "outputs": [],
   "source": [
    "#import dependencies\n",
    "import matplotlib.pyplot as plt\n",
    "import pandas as pd\n",
    "import os\n",
    "from sklearn.model_selection import train_test_split\n",
    "from sklearn.metrics import confusion_matrix, classification_report\n",
    "import seaborn as sns\n",
    "import matplotlib.pyplot as plt\n",
    "from sklearn.neighbors import KNeighborsClassifier"
   ]
  },
  {
   "cell_type": "code",
   "execution_count": 2,
   "metadata": {},
   "outputs": [
    {
     "data": {
      "text/html": [
       "<div>\n",
       "<style scoped>\n",
       "    .dataframe tbody tr th:only-of-type {\n",
       "        vertical-align: middle;\n",
       "    }\n",
       "\n",
       "    .dataframe tbody tr th {\n",
       "        vertical-align: top;\n",
       "    }\n",
       "\n",
       "    .dataframe thead th {\n",
       "        text-align: right;\n",
       "    }\n",
       "</style>\n",
       "<table border=\"1\" class=\"dataframe\">\n",
       "  <thead>\n",
       "    <tr style=\"text-align: right;\">\n",
       "      <th></th>\n",
       "      <th>Unnamed: 0</th>\n",
       "      <th>title</th>\n",
       "      <th>original_language</th>\n",
       "      <th>overview</th>\n",
       "      <th>popularity</th>\n",
       "      <th>production_companies</th>\n",
       "      <th>release_date</th>\n",
       "      <th>budget</th>\n",
       "      <th>revenue</th>\n",
       "      <th>runtime</th>\n",
       "      <th>vote_average</th>\n",
       "      <th>vote_count</th>\n",
       "      <th>poster_path</th>\n",
       "      <th>percent_return</th>\n",
       "      <th>profit</th>\n",
       "      <th>genre_1</th>\n",
       "      <th>genre_2</th>\n",
       "      <th>year</th>\n",
       "      <th>month</th>\n",
       "      <th>day</th>\n",
       "    </tr>\n",
       "  </thead>\n",
       "  <tbody>\n",
       "    <tr>\n",
       "      <th>0</th>\n",
       "      <td>0</td>\n",
       "      <td>Black Panther: Wakanda Forever</td>\n",
       "      <td>en</td>\n",
       "      <td>Queen Ramonda Shuri M’Baku Okoye and the Dora ...</td>\n",
       "      <td>3952.862</td>\n",
       "      <td>Marvel Studios</td>\n",
       "      <td>2022-11-09</td>\n",
       "      <td>250000000.0</td>\n",
       "      <td>855099029.0</td>\n",
       "      <td>162.0</td>\n",
       "      <td>7.403</td>\n",
       "      <td>3586.0</td>\n",
       "      <td>/sv1xJUazXeYqALzczSZ3O6nkH75.jpg</td>\n",
       "      <td>3.420396</td>\n",
       "      <td>605099029.0</td>\n",
       "      <td>Action</td>\n",
       "      <td>Adventure</td>\n",
       "      <td>2022</td>\n",
       "      <td>11</td>\n",
       "      <td>09 00:00:00</td>\n",
       "    </tr>\n",
       "    <tr>\n",
       "      <th>1</th>\n",
       "      <td>1</td>\n",
       "      <td>Puss in Boots: The Last Wish</td>\n",
       "      <td>en</td>\n",
       "      <td>Puss in Boots discovers that his passion for a...</td>\n",
       "      <td>3351.139</td>\n",
       "      <td>Other</td>\n",
       "      <td>2022-12-07</td>\n",
       "      <td>90000000.0</td>\n",
       "      <td>442000000.0</td>\n",
       "      <td>103.0</td>\n",
       "      <td>8.461</td>\n",
       "      <td>4047.0</td>\n",
       "      <td>/kuf6dutpsT0vSVehic3EZIqkOBt.jpg</td>\n",
       "      <td>4.911111</td>\n",
       "      <td>352000000.0</td>\n",
       "      <td>Animation</td>\n",
       "      <td>Adventure</td>\n",
       "      <td>2022</td>\n",
       "      <td>12</td>\n",
       "      <td>07 00:00:00</td>\n",
       "    </tr>\n",
       "    <tr>\n",
       "      <th>2</th>\n",
       "      <td>2</td>\n",
       "      <td>Plane</td>\n",
       "      <td>en</td>\n",
       "      <td>After a heroic job of successfully landing his...</td>\n",
       "      <td>3337.265</td>\n",
       "      <td>Other</td>\n",
       "      <td>2023-01-12</td>\n",
       "      <td>25000000.0</td>\n",
       "      <td>46000000.0</td>\n",
       "      <td>107.0</td>\n",
       "      <td>6.851</td>\n",
       "      <td>652.0</td>\n",
       "      <td>/qi9r5xBgcc9KTxlOLjssEbDgO0J.jpg</td>\n",
       "      <td>1.840000</td>\n",
       "      <td>21000000.0</td>\n",
       "      <td>Action</td>\n",
       "      <td>Adventure</td>\n",
       "      <td>2023</td>\n",
       "      <td>1</td>\n",
       "      <td>12 00:00:00</td>\n",
       "    </tr>\n",
       "    <tr>\n",
       "      <th>3</th>\n",
       "      <td>4</td>\n",
       "      <td>M3GAN</td>\n",
       "      <td>en</td>\n",
       "      <td>A brilliant toy company roboticist uses artifi...</td>\n",
       "      <td>1836.162</td>\n",
       "      <td>Other</td>\n",
       "      <td>2022-12-28</td>\n",
       "      <td>12000000.0</td>\n",
       "      <td>167643991.0</td>\n",
       "      <td>102.0</td>\n",
       "      <td>7.510</td>\n",
       "      <td>1794.0</td>\n",
       "      <td>/d9nBoowhjiiYc4FBNtQkPY7c11H.jpg</td>\n",
       "      <td>13.970333</td>\n",
       "      <td>155643991.0</td>\n",
       "      <td>Science Fiction</td>\n",
       "      <td>Horror</td>\n",
       "      <td>2022</td>\n",
       "      <td>12</td>\n",
       "      <td>28 00:00:00</td>\n",
       "    </tr>\n",
       "    <tr>\n",
       "      <th>4</th>\n",
       "      <td>5</td>\n",
       "      <td>Knock at the Cabin</td>\n",
       "      <td>en</td>\n",
       "      <td>While vacationing at a remote cabin a young gi...</td>\n",
       "      <td>1677.354</td>\n",
       "      <td>Other</td>\n",
       "      <td>2023-02-01</td>\n",
       "      <td>20000000.0</td>\n",
       "      <td>52000000.0</td>\n",
       "      <td>100.0</td>\n",
       "      <td>6.525</td>\n",
       "      <td>546.0</td>\n",
       "      <td>/dm06L9pxDOL9jNSK4Cb6y139rrG.jpg</td>\n",
       "      <td>2.600000</td>\n",
       "      <td>32000000.0</td>\n",
       "      <td>Horror</td>\n",
       "      <td>Mystery</td>\n",
       "      <td>2023</td>\n",
       "      <td>2</td>\n",
       "      <td>01 00:00:00</td>\n",
       "    </tr>\n",
       "  </tbody>\n",
       "</table>\n",
       "</div>"
      ],
      "text/plain": [
       "   Unnamed: 0                           title original_language  \\\n",
       "0           0  Black Panther: Wakanda Forever                en   \n",
       "1           1    Puss in Boots: The Last Wish                en   \n",
       "2           2                           Plane                en   \n",
       "3           4                           M3GAN                en   \n",
       "4           5              Knock at the Cabin                en   \n",
       "\n",
       "                                            overview  popularity  \\\n",
       "0  Queen Ramonda Shuri M’Baku Okoye and the Dora ...    3952.862   \n",
       "1  Puss in Boots discovers that his passion for a...    3351.139   \n",
       "2  After a heroic job of successfully landing his...    3337.265   \n",
       "3  A brilliant toy company roboticist uses artifi...    1836.162   \n",
       "4  While vacationing at a remote cabin a young gi...    1677.354   \n",
       "\n",
       "  production_companies release_date       budget      revenue  runtime  \\\n",
       "0       Marvel Studios   2022-11-09  250000000.0  855099029.0    162.0   \n",
       "1                Other   2022-12-07   90000000.0  442000000.0    103.0   \n",
       "2                Other   2023-01-12   25000000.0   46000000.0    107.0   \n",
       "3                Other   2022-12-28   12000000.0  167643991.0    102.0   \n",
       "4                Other   2023-02-01   20000000.0   52000000.0    100.0   \n",
       "\n",
       "   vote_average  vote_count                       poster_path  percent_return  \\\n",
       "0         7.403      3586.0  /sv1xJUazXeYqALzczSZ3O6nkH75.jpg        3.420396   \n",
       "1         8.461      4047.0  /kuf6dutpsT0vSVehic3EZIqkOBt.jpg        4.911111   \n",
       "2         6.851       652.0  /qi9r5xBgcc9KTxlOLjssEbDgO0J.jpg        1.840000   \n",
       "3         7.510      1794.0  /d9nBoowhjiiYc4FBNtQkPY7c11H.jpg       13.970333   \n",
       "4         6.525       546.0  /dm06L9pxDOL9jNSK4Cb6y139rrG.jpg        2.600000   \n",
       "\n",
       "        profit          genre_1    genre_2  year  month          day  \n",
       "0  605099029.0           Action  Adventure  2022     11  09 00:00:00  \n",
       "1  352000000.0        Animation  Adventure  2022     12  07 00:00:00  \n",
       "2   21000000.0           Action  Adventure  2023      1  12 00:00:00  \n",
       "3  155643991.0  Science Fiction     Horror  2022     12  28 00:00:00  \n",
       "4   32000000.0           Horror    Mystery  2023      2  01 00:00:00  "
      ]
     },
     "execution_count": 2,
     "metadata": {},
     "output_type": "execute_result"
    }
   ],
   "source": [
    "#read in csv and create df\n",
    "movie_df = pd.read_csv('cleaned_movie.csv')\n",
    "movie_df.head()"
   ]
  },
  {
   "cell_type": "code",
   "execution_count": 3,
   "metadata": {},
   "outputs": [
    {
     "data": {
      "text/plain": [
       "Index(['Unnamed: 0', 'title', 'original_language', 'overview', 'popularity',\n",
       "       'production_companies', 'release_date', 'budget', 'revenue', 'runtime',\n",
       "       'vote_average', 'vote_count', 'poster_path', 'percent_return', 'profit',\n",
       "       'genre_1', 'genre_2', 'year', 'month', 'day'],\n",
       "      dtype='object')"
      ]
     },
     "execution_count": 3,
     "metadata": {},
     "output_type": "execute_result"
    }
   ],
   "source": [
    "#show all columns of df\n",
    "movie_df.columns"
   ]
  },
  {
   "cell_type": "markdown",
   "metadata": {},
   "source": [
    "## Feature Engineering"
   ]
  },
  {
   "cell_type": "code",
   "execution_count": 4,
   "metadata": {},
   "outputs": [
    {
     "data": {
      "image/png": "[encoded data removed]",
      "text/plain": [
       "<Figure size 432x288 with 2 Axes>"
      ]
     },
     "metadata": {
      "needs_background": "light"
     },
     "output_type": "display_data"
    }
   ],
   "source": [
    "# Create a correlation matrix\n",
    "corr_matrix = movie_df.corr()\n",
    "\n",
    "# Display the matrix\n",
    "sns.heatmap(corr_matrix, cmap='coolwarm')\n",
    "plt.show()"
   ]
  },
  {
   "cell_type": "code",
   "execution_count": 5,
   "metadata": {},
   "outputs": [
    {
     "data": {
      "image/png": "[encoded data removed]",
      "text/plain": [
       "<Figure size 432x288 with 1 Axes>"
      ]
     },
     "metadata": {
      "needs_background": "light"
     },
     "output_type": "display_data"
    }
   ],
   "source": [
    "# Display a plot of Target correlations\n",
    "corr_matrix['profit'].plot(kind='bar')\n",
    "plt.show()"
   ]
  },
  {
   "cell_type": "code",
   "execution_count": 6,
   "metadata": {},
   "outputs": [
    {
     "data": {
      "text/html": [
       "<div>\n",
       "<style scoped>\n",
       "    .dataframe tbody tr th:only-of-type {\n",
       "        vertical-align: middle;\n",
       "    }\n",
       "\n",
       "    .dataframe tbody tr th {\n",
       "        vertical-align: top;\n",
       "    }\n",
       "\n",
       "    .dataframe thead th {\n",
       "        text-align: right;\n",
       "    }\n",
       "</style>\n",
       "<table border=\"1\" class=\"dataframe\">\n",
       "  <thead>\n",
       "    <tr style=\"text-align: right;\">\n",
       "      <th></th>\n",
       "      <th>Unnamed: 0</th>\n",
       "      <th>title</th>\n",
       "      <th>original_language</th>\n",
       "      <th>overview</th>\n",
       "      <th>popularity</th>\n",
       "      <th>production_companies</th>\n",
       "      <th>release_date</th>\n",
       "      <th>budget</th>\n",
       "      <th>revenue</th>\n",
       "      <th>runtime</th>\n",
       "      <th>vote_average</th>\n",
       "      <th>vote_count</th>\n",
       "      <th>poster_path</th>\n",
       "      <th>percent_return</th>\n",
       "      <th>profit</th>\n",
       "      <th>genre_1</th>\n",
       "      <th>genre_2</th>\n",
       "      <th>year</th>\n",
       "      <th>month</th>\n",
       "      <th>day</th>\n",
       "    </tr>\n",
       "  </thead>\n",
       "  <tbody>\n",
       "    <tr>\n",
       "      <th>0</th>\n",
       "      <td>0</td>\n",
       "      <td>Black Panther: Wakanda Forever</td>\n",
       "      <td>en</td>\n",
       "      <td>Queen Ramonda Shuri M’Baku Okoye and the Dora ...</td>\n",
       "      <td>3952.862</td>\n",
       "      <td>Marvel Studios</td>\n",
       "      <td>2022-11-09</td>\n",
       "      <td>250000000.0</td>\n",
       "      <td>855099029.0</td>\n",
       "      <td>162.0</td>\n",
       "      <td>7.403</td>\n",
       "      <td>3586.0</td>\n",
       "      <td>/sv1xJUazXeYqALzczSZ3O6nkH75.jpg</td>\n",
       "      <td>3.420396</td>\n",
       "      <td>605099029.0</td>\n",
       "      <td>Action</td>\n",
       "      <td>Adventure</td>\n",
       "      <td>2022</td>\n",
       "      <td>11</td>\n",
       "      <td>Wed</td>\n",
       "    </tr>\n",
       "    <tr>\n",
       "      <th>1</th>\n",
       "      <td>1</td>\n",
       "      <td>Puss in Boots: The Last Wish</td>\n",
       "      <td>en</td>\n",
       "      <td>Puss in Boots discovers that his passion for a...</td>\n",
       "      <td>3351.139</td>\n",
       "      <td>Other</td>\n",
       "      <td>2022-12-07</td>\n",
       "      <td>90000000.0</td>\n",
       "      <td>442000000.0</td>\n",
       "      <td>103.0</td>\n",
       "      <td>8.461</td>\n",
       "      <td>4047.0</td>\n",
       "      <td>/kuf6dutpsT0vSVehic3EZIqkOBt.jpg</td>\n",
       "      <td>4.911111</td>\n",
       "      <td>352000000.0</td>\n",
       "      <td>Animation</td>\n",
       "      <td>Adventure</td>\n",
       "      <td>2022</td>\n",
       "      <td>12</td>\n",
       "      <td>Wed</td>\n",
       "    </tr>\n",
       "    <tr>\n",
       "      <th>2</th>\n",
       "      <td>2</td>\n",
       "      <td>Plane</td>\n",
       "      <td>en</td>\n",
       "      <td>After a heroic job of successfully landing his...</td>\n",
       "      <td>3337.265</td>\n",
       "      <td>Other</td>\n",
       "      <td>2023-01-12</td>\n",
       "      <td>25000000.0</td>\n",
       "      <td>46000000.0</td>\n",
       "      <td>107.0</td>\n",
       "      <td>6.851</td>\n",
       "      <td>652.0</td>\n",
       "      <td>/qi9r5xBgcc9KTxlOLjssEbDgO0J.jpg</td>\n",
       "      <td>1.840000</td>\n",
       "      <td>21000000.0</td>\n",
       "      <td>Action</td>\n",
       "      <td>Adventure</td>\n",
       "      <td>2023</td>\n",
       "      <td>1</td>\n",
       "      <td>Thu</td>\n",
       "    </tr>\n",
       "    <tr>\n",
       "      <th>3</th>\n",
       "      <td>4</td>\n",
       "      <td>M3GAN</td>\n",
       "      <td>en</td>\n",
       "      <td>A brilliant toy company roboticist uses artifi...</td>\n",
       "      <td>1836.162</td>\n",
       "      <td>Other</td>\n",
       "      <td>2022-12-28</td>\n",
       "      <td>12000000.0</td>\n",
       "      <td>167643991.0</td>\n",
       "      <td>102.0</td>\n",
       "      <td>7.510</td>\n",
       "      <td>1794.0</td>\n",
       "      <td>/d9nBoowhjiiYc4FBNtQkPY7c11H.jpg</td>\n",
       "      <td>13.970333</td>\n",
       "      <td>155643991.0</td>\n",
       "      <td>Science Fiction</td>\n",
       "      <td>Horror</td>\n",
       "      <td>2022</td>\n",
       "      <td>12</td>\n",
       "      <td>Wed</td>\n",
       "    </tr>\n",
       "    <tr>\n",
       "      <th>4</th>\n",
       "      <td>5</td>\n",
       "      <td>Knock at the Cabin</td>\n",
       "      <td>en</td>\n",
       "      <td>While vacationing at a remote cabin a young gi...</td>\n",
       "      <td>1677.354</td>\n",
       "      <td>Other</td>\n",
       "      <td>2023-02-01</td>\n",
       "      <td>20000000.0</td>\n",
       "      <td>52000000.0</td>\n",
       "      <td>100.0</td>\n",
       "      <td>6.525</td>\n",
       "      <td>546.0</td>\n",
       "      <td>/dm06L9pxDOL9jNSK4Cb6y139rrG.jpg</td>\n",
       "      <td>2.600000</td>\n",
       "      <td>32000000.0</td>\n",
       "      <td>Horror</td>\n",
       "      <td>Mystery</td>\n",
       "      <td>2023</td>\n",
       "      <td>2</td>\n",
       "      <td>Wed</td>\n",
       "    </tr>\n",
       "  </tbody>\n",
       "</table>\n",
       "</div>"
      ],
      "text/plain": [
       "   Unnamed: 0                           title original_language  \\\n",
       "0           0  Black Panther: Wakanda Forever                en   \n",
       "1           1    Puss in Boots: The Last Wish                en   \n",
       "2           2                           Plane                en   \n",
       "3           4                           M3GAN                en   \n",
       "4           5              Knock at the Cabin                en   \n",
       "\n",
       "                                            overview  popularity  \\\n",
       "0  Queen Ramonda Shuri M’Baku Okoye and the Dora ...    3952.862   \n",
       "1  Puss in Boots discovers that his passion for a...    3351.139   \n",
       "2  After a heroic job of successfully landing his...    3337.265   \n",
       "3  A brilliant toy company roboticist uses artifi...    1836.162   \n",
       "4  While vacationing at a remote cabin a young gi...    1677.354   \n",
       "\n",
       "  production_companies release_date       budget      revenue  runtime  \\\n",
       "0       Marvel Studios   2022-11-09  250000000.0  855099029.0    162.0   \n",
       "1                Other   2022-12-07   90000000.0  442000000.0    103.0   \n",
       "2                Other   2023-01-12   25000000.0   46000000.0    107.0   \n",
       "3                Other   2022-12-28   12000000.0  167643991.0    102.0   \n",
       "4                Other   2023-02-01   20000000.0   52000000.0    100.0   \n",
       "\n",
       "   vote_average  vote_count                       poster_path  percent_return  \\\n",
       "0         7.403      3586.0  /sv1xJUazXeYqALzczSZ3O6nkH75.jpg        3.420396   \n",
       "1         8.461      4047.0  /kuf6dutpsT0vSVehic3EZIqkOBt.jpg        4.911111   \n",
       "2         6.851       652.0  /qi9r5xBgcc9KTxlOLjssEbDgO0J.jpg        1.840000   \n",
       "3         7.510      1794.0  /d9nBoowhjiiYc4FBNtQkPY7c11H.jpg       13.970333   \n",
       "4         6.525       546.0  /dm06L9pxDOL9jNSK4Cb6y139rrG.jpg        2.600000   \n",
       "\n",
       "        profit          genre_1    genre_2  year  month  day  \n",
       "0  605099029.0           Action  Adventure  2022     11  Wed  \n",
       "1  352000000.0        Animation  Adventure  2022     12  Wed  \n",
       "2   21000000.0           Action  Adventure  2023      1  Thu  \n",
       "3  155643991.0  Science Fiction     Horror  2022     12  Wed  \n",
       "4   32000000.0           Horror    Mystery  2023      2  Wed  "
      ]
     },
     "execution_count": 6,
     "metadata": {},
     "output_type": "execute_result"
    }
   ],
   "source": [
    "#create new days of the week column\n",
    "import datetime\n",
    "day_order = ['Mon', 'Tue', 'Wed', 'Thu', 'Fri', 'Sat', 'Sun']\n",
    "\n",
    "#function to determine days of the week\n",
    "def get_day(x):\n",
    "    try:\n",
    "        year, month, day = (int(i) for i in x.split('-'))    \n",
    "        answer = datetime.date(year, month, day).weekday()\n",
    "        return day_order[answer]\n",
    "    except:\n",
    "        return np.nan\n",
    "\n",
    "#create new column w/ days of the week   \n",
    "movie_df['day'] = movie_df['release_date'].apply(get_day)\n",
    "\n",
    "#show new df with added column\n",
    "movie_df.head()"
   ]
  },
  {
   "cell_type": "code",
   "execution_count": 7,
   "metadata": {},
   "outputs": [],
   "source": [
    "#drop columns that were determined insignificant\n",
    "movie_df = movie_df.drop(columns=['Unnamed: 0','overview','poster_path','genre_1','genre_2','profit','release_date','production_companies'])"
   ]
  },
  {
   "cell_type": "code",
   "execution_count": 8,
   "metadata": {},
   "outputs": [],
   "source": [
    "#create fucntion for feature engineering\n",
    "def feature_engineering(new_df):\n",
    "    \n",
    "    #change language column to is/is not english\n",
    "    new_df['is_english'] = new_df['original_language'].apply(lambda x: 1 if x=='en' else 0)\n",
    "    new_df = new_df.drop('original_language', axis=1)\n",
    "    \n",
    "    #change days column to is/is not friday\n",
    "    new_df['is_Friday'] = new_df['day'].apply(lambda x: 1 if x=='Fri' else 0)\n",
    "    new_df = new_df.drop('day', axis=1)\n",
    "    \n",
    "    #change months column to is/is not holiday\n",
    "    new_df['is_Holiday'] = new_df['month'].apply(lambda x: 1 if x in ['Apr', 'May', 'Jun', 'Nov'] else 0)\n",
    "    new_df = new_df.drop('month', axis=1)\n",
    "    \n",
    "    #drop title\n",
    "    new_df = new_df.drop(['title'], axis=1)\n",
    "    \n",
    "    #create dummy data\n",
    "    new_df = pd.get_dummies(new_df, prefix='is')\n",
    "    \n",
    "    #fill na values \n",
    "    new_df['runtime'] = new_df['runtime'].fillna(new_df['runtime'].mean())\n",
    "    new_df['vote_average'] = new_df['vote_average'].fillna(new_df['vote_average'].mean())\n",
    "\n",
    "    return new_df"
   ]
  },
  {
   "cell_type": "code",
   "execution_count": 9,
   "metadata": {},
   "outputs": [
    {
     "data": {
      "text/html": [
       "<div>\n",
       "<style scoped>\n",
       "    .dataframe tbody tr th:only-of-type {\n",
       "        vertical-align: middle;\n",
       "    }\n",
       "\n",
       "    .dataframe tbody tr th {\n",
       "        vertical-align: top;\n",
       "    }\n",
       "\n",
       "    .dataframe thead th {\n",
       "        text-align: right;\n",
       "    }\n",
       "</style>\n",
       "<table border=\"1\" class=\"dataframe\">\n",
       "  <thead>\n",
       "    <tr style=\"text-align: right;\">\n",
       "      <th></th>\n",
       "      <th>popularity</th>\n",
       "      <th>budget</th>\n",
       "      <th>revenue</th>\n",
       "      <th>runtime</th>\n",
       "      <th>vote_average</th>\n",
       "      <th>vote_count</th>\n",
       "      <th>percent_return</th>\n",
       "      <th>year</th>\n",
       "      <th>is_english</th>\n",
       "      <th>is_Friday</th>\n",
       "      <th>is_Holiday</th>\n",
       "    </tr>\n",
       "  </thead>\n",
       "  <tbody>\n",
       "    <tr>\n",
       "      <th>0</th>\n",
       "      <td>3952.862</td>\n",
       "      <td>250000000.0</td>\n",
       "      <td>855099029.0</td>\n",
       "      <td>162.0</td>\n",
       "      <td>7.403</td>\n",
       "      <td>3586.0</td>\n",
       "      <td>3.420396</td>\n",
       "      <td>2022</td>\n",
       "      <td>1</td>\n",
       "      <td>0</td>\n",
       "      <td>0</td>\n",
       "    </tr>\n",
       "    <tr>\n",
       "      <th>1</th>\n",
       "      <td>3351.139</td>\n",
       "      <td>90000000.0</td>\n",
       "      <td>442000000.0</td>\n",
       "      <td>103.0</td>\n",
       "      <td>8.461</td>\n",
       "      <td>4047.0</td>\n",
       "      <td>4.911111</td>\n",
       "      <td>2022</td>\n",
       "      <td>1</td>\n",
       "      <td>0</td>\n",
       "      <td>0</td>\n",
       "    </tr>\n",
       "    <tr>\n",
       "      <th>2</th>\n",
       "      <td>3337.265</td>\n",
       "      <td>25000000.0</td>\n",
       "      <td>46000000.0</td>\n",
       "      <td>107.0</td>\n",
       "      <td>6.851</td>\n",
       "      <td>652.0</td>\n",
       "      <td>1.840000</td>\n",
       "      <td>2023</td>\n",
       "      <td>1</td>\n",
       "      <td>0</td>\n",
       "      <td>0</td>\n",
       "    </tr>\n",
       "    <tr>\n",
       "      <th>3</th>\n",
       "      <td>1836.162</td>\n",
       "      <td>12000000.0</td>\n",
       "      <td>167643991.0</td>\n",
       "      <td>102.0</td>\n",
       "      <td>7.510</td>\n",
       "      <td>1794.0</td>\n",
       "      <td>13.970333</td>\n",
       "      <td>2022</td>\n",
       "      <td>1</td>\n",
       "      <td>0</td>\n",
       "      <td>0</td>\n",
       "    </tr>\n",
       "    <tr>\n",
       "      <th>4</th>\n",
       "      <td>1677.354</td>\n",
       "      <td>20000000.0</td>\n",
       "      <td>52000000.0</td>\n",
       "      <td>100.0</td>\n",
       "      <td>6.525</td>\n",
       "      <td>546.0</td>\n",
       "      <td>2.600000</td>\n",
       "      <td>2023</td>\n",
       "      <td>1</td>\n",
       "      <td>0</td>\n",
       "      <td>0</td>\n",
       "    </tr>\n",
       "    <tr>\n",
       "      <th>...</th>\n",
       "      <td>...</td>\n",
       "      <td>...</td>\n",
       "      <td>...</td>\n",
       "      <td>...</td>\n",
       "      <td>...</td>\n",
       "      <td>...</td>\n",
       "      <td>...</td>\n",
       "      <td>...</td>\n",
       "      <td>...</td>\n",
       "      <td>...</td>\n",
       "      <td>...</td>\n",
       "    </tr>\n",
       "    <tr>\n",
       "      <th>9463</th>\n",
       "      <td>0.600</td>\n",
       "      <td>500.0</td>\n",
       "      <td>500.0</td>\n",
       "      <td>10.0</td>\n",
       "      <td>0.000</td>\n",
       "      <td>0.0</td>\n",
       "      <td>1.000000</td>\n",
       "      <td>2018</td>\n",
       "      <td>1</td>\n",
       "      <td>0</td>\n",
       "      <td>0</td>\n",
       "    </tr>\n",
       "    <tr>\n",
       "      <th>9464</th>\n",
       "      <td>0.600</td>\n",
       "      <td>500.0</td>\n",
       "      <td>500.0</td>\n",
       "      <td>13.0</td>\n",
       "      <td>8.000</td>\n",
       "      <td>1.0</td>\n",
       "      <td>1.000000</td>\n",
       "      <td>2021</td>\n",
       "      <td>1</td>\n",
       "      <td>1</td>\n",
       "      <td>0</td>\n",
       "    </tr>\n",
       "    <tr>\n",
       "      <th>9465</th>\n",
       "      <td>0.600</td>\n",
       "      <td>1600000.0</td>\n",
       "      <td>636990.0</td>\n",
       "      <td>41.0</td>\n",
       "      <td>0.000</td>\n",
       "      <td>0.0</td>\n",
       "      <td>0.398119</td>\n",
       "      <td>2012</td>\n",
       "      <td>0</td>\n",
       "      <td>0</td>\n",
       "      <td>0</td>\n",
       "    </tr>\n",
       "    <tr>\n",
       "      <th>9466</th>\n",
       "      <td>0.600</td>\n",
       "      <td>500.0</td>\n",
       "      <td>700.0</td>\n",
       "      <td>4.0</td>\n",
       "      <td>0.000</td>\n",
       "      <td>0.0</td>\n",
       "      <td>1.400000</td>\n",
       "      <td>2020</td>\n",
       "      <td>0</td>\n",
       "      <td>0</td>\n",
       "      <td>0</td>\n",
       "    </tr>\n",
       "    <tr>\n",
       "      <th>9467</th>\n",
       "      <td>0.600</td>\n",
       "      <td>1.0</td>\n",
       "      <td>1.0</td>\n",
       "      <td>113.0</td>\n",
       "      <td>0.000</td>\n",
       "      <td>0.0</td>\n",
       "      <td>1.000000</td>\n",
       "      <td>2020</td>\n",
       "      <td>1</td>\n",
       "      <td>1</td>\n",
       "      <td>0</td>\n",
       "    </tr>\n",
       "  </tbody>\n",
       "</table>\n",
       "<p>9468 rows × 11 columns</p>\n",
       "</div>"
      ],
      "text/plain": [
       "      popularity       budget      revenue  runtime  vote_average  vote_count  \\\n",
       "0       3952.862  250000000.0  855099029.0    162.0         7.403      3586.0   \n",
       "1       3351.139   90000000.0  442000000.0    103.0         8.461      4047.0   \n",
       "2       3337.265   25000000.0   46000000.0    107.0         6.851       652.0   \n",
       "3       1836.162   12000000.0  167643991.0    102.0         7.510      1794.0   \n",
       "4       1677.354   20000000.0   52000000.0    100.0         6.525       546.0   \n",
       "...          ...          ...          ...      ...           ...         ...   \n",
       "9463       0.600        500.0        500.0     10.0         0.000         0.0   \n",
       "9464       0.600        500.0        500.0     13.0         8.000         1.0   \n",
       "9465       0.600    1600000.0     636990.0     41.0         0.000         0.0   \n",
       "9466       0.600        500.0        700.0      4.0         0.000         0.0   \n",
       "9467       0.600          1.0          1.0    113.0         0.000         0.0   \n",
       "\n",
       "      percent_return  year  is_english  is_Friday  is_Holiday  \n",
       "0           3.420396  2022           1          0           0  \n",
       "1           4.911111  2022           1          0           0  \n",
       "2           1.840000  2023           1          0           0  \n",
       "3          13.970333  2022           1          0           0  \n",
       "4           2.600000  2023           1          0           0  \n",
       "...              ...   ...         ...        ...         ...  \n",
       "9463        1.000000  2018           1          0           0  \n",
       "9464        1.000000  2021           1          1           0  \n",
       "9465        0.398119  2012           0          0           0  \n",
       "9466        1.400000  2020           0          0           0  \n",
       "9467        1.000000  2020           1          1           0  \n",
       "\n",
       "[9468 rows x 11 columns]"
      ]
     },
     "execution_count": 9,
     "metadata": {},
     "output_type": "execute_result"
    }
   ],
   "source": [
    "#create new df with feature engineering\n",
    "new_movie_df = feature_engineering(movie_df)\n",
    "new_movie_df"
   ]
  },
  {
   "cell_type": "code",
   "execution_count": 10,
   "metadata": {},
   "outputs": [
    {
     "data": {
      "text/plain": [
       "Index(['popularity', 'budget', 'revenue', 'runtime', 'vote_average',\n",
       "       'vote_count', 'percent_return', 'year', 'is_english', 'is_Friday',\n",
       "       'is_Holiday'],\n",
       "      dtype='object')"
      ]
     },
     "execution_count": 10,
     "metadata": {},
     "output_type": "execute_result"
    }
   ],
   "source": [
    "#show columns of engineered df\n",
    "new_movie_df.columns"
   ]
  },
  {
   "cell_type": "code",
   "execution_count": 11,
   "metadata": {},
   "outputs": [],
   "source": [
    "# Define the X (features) and y (target) sets\n",
    "y = new_movie_df[\"revenue\"].values\n",
    "X = new_movie_df.drop(\"revenue\", axis=1)"
   ]
  },
  {
   "cell_type": "code",
   "execution_count": 12,
   "metadata": {},
   "outputs": [],
   "source": [
    "# Split the data into X_train, X_test, y_train, y_test\n",
    "from sklearn.model_selection import train_test_split\n",
    "\n",
    "X_train, X_test, y_train, y_test = train_test_split(X, y, random_state=1)"
   ]
  },
  {
   "cell_type": "markdown",
   "metadata": {},
   "source": [
    "## Linear Regression Model"
   ]
  },
  {
   "cell_type": "code",
   "execution_count": 13,
   "metadata": {},
   "outputs": [],
   "source": [
    "#import dependencies\n",
    "from sklearn.linear_model import LinearRegression\n",
    "from sklearn.preprocessing import StandardScaler"
   ]
  },
  {
   "cell_type": "code",
   "execution_count": 14,
   "metadata": {},
   "outputs": [
    {
     "name": "stdout",
     "output_type": "stream",
     "text": [
      "Training Score: 0.7149130456986493\n",
      "Testing Score: 0.6955101712950749\n"
     ]
    }
   ],
   "source": [
    "# Creating the linear regression model\n",
    "classifier = LinearRegression()\n",
    "classifier\n",
    "\n",
    "# Split the data into X_train, X_test, y_train, y_test\n",
    "X_train, X_test, y_train, y_test = train_test_split(X, y, random_state=1)\n",
    "\n",
    "#scale the data\n",
    "scaler = StandardScaler().fit(X_train)\n",
    "X_train_scaled = scaler.transform(X_train)\n",
    "X_test_scaled = scaler.transform(X_test)\n",
    "\n",
    "# fit model using training data\n",
    "classifier.fit(X_train_scaled, y_train)\n",
    "training_score = classifier.score(X_train_scaled, y_train)\n",
    "testing_score = classifier.score(X_test_scaled, y_test)\n",
    "\n",
    "# print training and test scores\n",
    "print(f\"Training Score: {training_score}\")\n",
    "print(f\"Testing Score: {testing_score}\")"
   ]
  },
  {
   "cell_type": "markdown",
   "metadata": {},
   "source": [
    "## Lasso Regression for Feature Selection"
   ]
  },
  {
   "cell_type": "code",
   "execution_count": 15,
   "metadata": {},
   "outputs": [],
   "source": [
    "# import dependencies\n",
    "import numpy as np\n",
    "from sklearn.pipeline import Pipeline\n",
    "from sklearn.model_selection import train_test_split, GridSearchCV\n",
    "from sklearn.linear_model import Lasso\n",
    "from sklearn import linear_model\n",
    "import numpy as np\n",
    "from math import sqrt\n",
    "from sklearn.metrics import r2_score\n",
    "from sklearn.metrics import mean_absolute_error"
   ]
  },
  {
   "cell_type": "code",
   "execution_count": 16,
   "metadata": {},
   "outputs": [
    {
     "data": {
      "text/plain": [
       "array([ 7859329.96777299, 70754201.86735797,  3569883.40326166,\n",
       "        1959887.93736944, 80230530.8455918 ,   590537.85124628,\n",
       "        7289116.1317098 , 10450120.37114386,   275606.40711522,\n",
       "              0.        ])"
      ]
     },
     "execution_count": 16,
     "metadata": {},
     "output_type": "execute_result"
    }
   ],
   "source": [
    "# Split the data into X_train, X_test, y_train, y_test\n",
    "X_train, X_test, y_train, y_test = train_test_split(X, y, random_state=1)\n",
    "\n",
    "#scale the data\n",
    "scaler = StandardScaler().fit(X_train)\n",
    "X_train_scaled = scaler.transform(X_train)\n",
    "X_test_scaled = scaler.transform(X_test)\n",
    "\n",
    "# create model\n",
    "model_lasso = Lasso(alpha=0.01)\n",
    "\n",
    "# fit model\n",
    "model_lasso.fit(X_train_scaled, y_train)\n",
    "\n",
    "# get the values of the coefficients of Lasso regression\n",
    "coefficients = model_lasso.coef_\n",
    "\n",
    "# the importance of a feature is the absolute value of its coefficient\n",
    "importance = np.abs(coefficients)\n",
    "importance"
   ]
  },
  {
   "cell_type": "code",
   "execution_count": 17,
   "metadata": {},
   "outputs": [
    {
     "data": {
      "text/plain": [
       "array(['popularity', 'budget', 'runtime', 'vote_average', 'vote_count',\n",
       "       'percent_return', 'year', 'is_english', 'is_Friday'], dtype=object)"
      ]
     },
     "execution_count": 17,
     "metadata": {},
     "output_type": "execute_result"
    }
   ],
   "source": [
    "#define features\n",
    "features = X_train.columns\n",
    "\n",
    "#show features that are important\n",
    "np.array(features)[importance > 0]"
   ]
  },
  {
   "cell_type": "code",
   "execution_count": 18,
   "metadata": {},
   "outputs": [
    {
     "data": {
      "text/plain": [
       "array(['is_Holiday'], dtype=object)"
      ]
     },
     "execution_count": 18,
     "metadata": {},
     "output_type": "execute_result"
    }
   ],
   "source": [
    "#there is 1 feature with 0 importance. That feature have been discarded by the Lasso model\n",
    "np.array(features)[importance == 0]"
   ]
  },
  {
   "cell_type": "code",
   "execution_count": 19,
   "metadata": {},
   "outputs": [
    {
     "name": "stdout",
     "output_type": "stream",
     "text": [
      "Training Mean Absolute Error:40200277.49138605\n",
      "Training Score:0.7149130456986493\n",
      "Testing Mean Absolute Error:39792515.51958166\n",
      "Testing Score:0.695510171314409\n"
     ]
    }
   ],
   "source": [
    "pred_train_lasso= model_lasso.predict(X_train_scaled)\n",
    "print(f'Training Mean Absolute Error:{(mean_absolute_error(y_train,pred_train_lasso))}')\n",
    "print(f'Training Score:{r2_score(y_train, pred_train_lasso)}')\n",
    "\n",
    "pred_test_lasso= model_lasso.predict(X_test_scaled)\n",
    "print(f'Testing Mean Absolute Error:{(mean_absolute_error(y_test,pred_test_lasso))}') \n",
    "print(f'Testing Score:{r2_score(y_test, pred_test_lasso)}')"
   ]
  },
  {
   "cell_type": "markdown",
   "metadata": {},
   "source": [
    "## Random Forest Model"
   ]
  },
  {
   "cell_type": "code",
   "execution_count": 20,
   "metadata": {},
   "outputs": [],
   "source": [
    "# import dependencies\n",
    "from sklearn.ensemble import RandomForestRegressor\n",
    "from sklearn.metrics import r2_score"
   ]
  },
  {
   "cell_type": "code",
   "execution_count": 21,
   "metadata": {},
   "outputs": [],
   "source": [
    "# Split the data into X_train, X_test, y_train, y_test\n",
    "X_train, X_test, y_train, y_test = train_test_split(X, y, random_state=1)\n",
    "\n",
    "# scale the data\n",
    "scaler = StandardScaler().fit(X_train)\n",
    "X_train_scaled = scaler.transform(X_train)\n",
    "X_test_scaled = scaler.transform(X_test)"
   ]
  },
  {
   "cell_type": "code",
   "execution_count": 22,
   "metadata": {},
   "outputs": [
    {
     "name": "stdout",
     "output_type": "stream",
     "text": [
      "Training Mean Absolute Error: 2352742102.4349456\n",
      "Training Score: 0.9942137790076767\n",
      "Testing Mean Absolute Error: 2366505470.1976385\n",
      "Testing Score: 0.9547865447838357\n"
     ]
    },
    {
     "name": "stderr",
     "output_type": "stream",
     "text": [
      "/Users/BronwynsMac/opt/anaconda3/lib/python3.9/site-packages/sklearn/base.py:443: UserWarning: X has feature names, but RandomForestRegressor was fitted without feature names\n",
      "  warnings.warn(\n",
      "/Users/BronwynsMac/opt/anaconda3/lib/python3.9/site-packages/sklearn/base.py:443: UserWarning: X has feature names, but RandomForestRegressor was fitted without feature names\n",
      "  warnings.warn(\n"
     ]
    }
   ],
   "source": [
    "#create RandomForestRegressor model\n",
    "clf = RandomForestRegressor(random_state=1, n_estimators=100).fit(X_train_scaled, y_train)\n",
    "\n",
    "#y prediction value\n",
    "pred_ran_for = clf.predict(X_train)\n",
    "test_ran_for = clf.predict(X_test)\n",
    "\n",
    "print(f'Training Mean Absolute Error: {(mean_absolute_error(y_train,pred_ran_for))}')\n",
    "print(f'Training Score: {clf.score(X_train_scaled, y_train)}')\n",
    "print(f'Testing Mean Absolute Error: {(mean_absolute_error(y_test,test_ran_for))}')\n",
    "print(f'Testing Score: {clf.score(X_test_scaled, y_test)}')"
   ]
  },
  {
   "cell_type": "code",
   "execution_count": 23,
   "metadata": {},
   "outputs": [
    {
     "data": {
      "text/plain": [
       "-231.5157274087093"
      ]
     },
     "execution_count": 23,
     "metadata": {},
     "output_type": "execute_result"
    }
   ],
   "source": [
    "#adjust r value \n",
    "Adj_r2 = 1 - (1-r2_score(y_train, pred_ran_for )) * (len(y_train)-1)/(len(y_train)-X_train_scaled.shape[1]-1)\n",
    "Adj_r2"
   ]
  },
  {
   "cell_type": "markdown",
   "metadata": {},
   "source": [
    "## Ridge Regression"
   ]
  },
  {
   "cell_type": "code",
   "execution_count": null,
   "metadata": {},
   "outputs": [],
   "source": [
    "from sklearn.linear_model import Ridge\n",
    "ridge = Ridge(alpha=0.1)\n",
    "\n",
    "ridge.fit(X_train_scaled, y_train)\n",
    "\n",
    "# Print coefficients and intercept\n",
    "# print('Coefficients:', ridge.coef_)\n",
    "# print('Intercept:', ridge.intercept_)\n",
    "\n",
    "# Predict on test set and calculate R^2 score\n",
    "y_pred = ridge.predict(X_test_scaled)\n",
    "\n",
    "# summarize prediction\n",
    "print('Test Score:',% y_pred)\n",
    "\n",
    "r_squared = ridge.score(X_test_scaled, y_test)\n",
    "print('Training Score', r_squared)\n",
    "\n"
   ]
  },
  {
   "cell_type": "markdown",
   "metadata": {},
   "source": [
    "## Support Vector Regression"
   ]
  },
  {
   "cell_type": "code",
   "execution_count": null,
   "metadata": {},
   "outputs": [],
   "source": [
    "from sklearn.svm import SVR\n",
    "from sklearn.model_selection import train_test_split\n",
    "from sklearn.preprocessing import StandardScaler\n",
    "import numpy as np\n",
    "\n",
    "# Load the data\n",
    "X, y = load_data() # Replace with actual code to load data\n",
    "\n",
    "# Split the data into training and testing sets\n",
    "X_train, X_test, y_train, y_test = train_test_split(X, y, test_size=0.2, random_state=42)\n",
    "\n",
    "# Standardize the features\n",
    "scaler = StandardScaler()\n",
    "X_train_scaled = scaler.fit_transform(X_train)\n",
    "X_test_scaled = scaler.transform(X_test)\n",
    "\n",
    "# Fit SVR model\n",
    "svr = SVR(kernel='linear', C=1.0, epsilon=0.1)\n",
    "svr.fit(X_train_scaled, y_train)\n",
    "\n",
    "# Predict on test set and calculate R^2 score\n",
    "y_pred = svr.predict(X_test_scaled)\n",
    "r_squared = svr.score(X_test_scaled, y_test)\n",
    "print('R^2 Score:', r_squared)"
   ]
  },
  {
   "cell_type": "markdown",
   "metadata": {},
   "source": [
    "## Notes"
   ]
  },
  {
   "cell_type": "code",
   "execution_count": null,
   "metadata": {},
   "outputs": [],
   "source": [
    "profit will be our Y in the train test model\n",
    "what supervised models do we want to use and what encoding do we want to use\n",
    "will have to change preprocessing for each model (ie one hot or label encoding)"
   ]
  },
  {
   "cell_type": "code",
   "execution_count": null,
   "metadata": {},
   "outputs": [],
   "source": [
    "one hot encoding for changing genre\n",
    "feature engineering - is title a series or no?\n",
    "label encoding vs one encoding - which one to use to be based on model we use"
   ]
  }
 ],
 "metadata": {
  "kernelspec": {
   "display_name": "Python 3 (ipykernel)",
   "language": "python",
   "name": "python3"
  },
  "language_info": {
   "codemirror_mode": {
    "name": "ipython",
    "version": 3
   },
   "file_extension": ".py",
   "mimetype": "text/x-python",
   "name": "python",
   "nbconvert_exporter": "python",
   "pygments_lexer": "ipython3",
   "version": "3.9.12"
  },
  "vscode": {
   "interpreter": {
    "hash": "333b2b3781ad3f08f8cd85798a3803afed53a8206912ac3549bfea129117421e"
   }
  }
 },
 "nbformat": 4,
 "nbformat_minor": 2
}
