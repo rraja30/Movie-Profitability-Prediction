{
 "cells": [
  {
   "cell_type": "code",
   "execution_count": 2,
   "id": "3440d13f",
   "metadata": {},
   "outputs": [
    {
     "data": {
      "text/html": [
       "        <script type=\"text/javascript\">\n",
       "        window.PlotlyConfig = {MathJaxConfig: 'local'};\n",
       "        if (window.MathJax) {MathJax.Hub.Config({SVG: {font: \"STIX-Web\"}});}\n",
       "        if (typeof require !== 'undefined') {\n",
       "        require.undef(\"plotly\");\n",
       "        requirejs.config({\n",
       "            paths: {\n",
       "                'plotly': ['https://cdn.plot.ly/plotly-2.9.0.min']\n",
       "            }\n",
       "        });\n",
       "        require(['plotly'], function(Plotly) {\n",
       "            window._Plotly = Plotly;\n",
       "        });\n",
       "        }\n",
       "        </script>\n",
       "        "
      ]
     },
     "metadata": {},
     "output_type": "display_data"
    }
   ],
   "source": [
    "%matplotlib inline\n",
    "from IPython.display import Image, HTML\n",
    "import json\n",
    "import datetime\n",
    "import ast\n",
    "import pandas as pd\n",
    "import matplotlib.pyplot as plt\n",
    "import seaborn as sns\n",
    "import numpy as np\n",
    "from scipy import stats\n",
    "from sklearn.ensemble import GradientBoostingClassifier, GradientBoostingRegressor\n",
    "from sklearn.dummy import DummyClassifier, DummyRegressor\n",
    "from sklearn.model_selection import train_test_split\n",
    "from xgboost import XGBClassifier, XGBRegressor\n",
    "from wordcloud import WordCloud, STOPWORDS\n",
    "import plotly\n",
    "import plotly.offline as py\n",
    "py.init_notebook_mode(connected=True)\n",
    "import plotly.graph_objs as go\n",
    "import plotly.tools as tls\n",
    "import warnings\n",
    "warnings.filterwarnings('ignore')\n",
    "\n",
    "\n",
    "sns.set_style('whitegrid')\n",
    "sns.set(font_scale=1.25)\n",
    "pd.set_option('display.max_colwidth', 50)"
   ]
  },
  {
   "cell_type": "code",
   "execution_count": 3,
   "id": "0766b136",
   "metadata": {},
   "outputs": [
    {
     "data": {
      "text/html": [
       "<div>\n",
       "<style scoped>\n",
       "    .dataframe tbody tr th:only-of-type {\n",
       "        vertical-align: middle;\n",
       "    }\n",
       "\n",
       "    .dataframe tbody tr th {\n",
       "        vertical-align: top;\n",
       "    }\n",
       "\n",
       "    .dataframe thead th {\n",
       "        text-align: right;\n",
       "    }\n",
       "</style>\n",
       "<table border=\"1\" class=\"dataframe\">\n",
       "  <thead>\n",
       "    <tr style=\"text-align: right;\">\n",
       "      <th></th>\n",
       "      <th>0</th>\n",
       "      <th>1</th>\n",
       "      <th>2</th>\n",
       "      <th>3</th>\n",
       "      <th>4</th>\n",
       "    </tr>\n",
       "  </thead>\n",
       "  <tbody>\n",
       "    <tr>\n",
       "      <th>id</th>\n",
       "      <td>505642</td>\n",
       "      <td>315162</td>\n",
       "      <td>646389</td>\n",
       "      <td>956101</td>\n",
       "      <td>536554</td>\n",
       "    </tr>\n",
       "    <tr>\n",
       "      <th>title</th>\n",
       "      <td>Black Panther: Wakanda Forever</td>\n",
       "      <td>Puss in Boots: The Last Wish</td>\n",
       "      <td>Plane</td>\n",
       "      <td>The Eighth Clause</td>\n",
       "      <td>M3GAN</td>\n",
       "    </tr>\n",
       "    <tr>\n",
       "      <th>genres</th>\n",
       "      <td>Action-Adventure-Science Fiction</td>\n",
       "      <td>Animation-Adventure-Comedy</td>\n",
       "      <td>Action-Adventure-Thriller</td>\n",
       "      <td>Thriller</td>\n",
       "      <td>Science Fiction-Horror-Comedy</td>\n",
       "    </tr>\n",
       "    <tr>\n",
       "      <th>original_language</th>\n",
       "      <td>en</td>\n",
       "      <td>en</td>\n",
       "      <td>en</td>\n",
       "      <td>la</td>\n",
       "      <td>en</td>\n",
       "    </tr>\n",
       "    <tr>\n",
       "      <th>overview</th>\n",
       "      <td>Queen Ramonda Shuri M’Baku Okoye and the Dora ...</td>\n",
       "      <td>Puss in Boots discovers that his passion for a...</td>\n",
       "      <td>After a heroic job of successfully landing his...</td>\n",
       "      <td>Kat and Borja appear to be a perfect couple bu...</td>\n",
       "      <td>A brilliant toy company roboticist uses artifi...</td>\n",
       "    </tr>\n",
       "    <tr>\n",
       "      <th>popularity</th>\n",
       "      <td>3952.862</td>\n",
       "      <td>3351.139</td>\n",
       "      <td>3337.265</td>\n",
       "      <td>2259.303</td>\n",
       "      <td>1836.162</td>\n",
       "    </tr>\n",
       "    <tr>\n",
       "      <th>production_companies</th>\n",
       "      <td>Marvel Studios</td>\n",
       "      <td>Universal Pictures-DreamWorks Animation</td>\n",
       "      <td>Di Bonaventura Pictures-MadRiver Pictures-Rive...</td>\n",
       "      <td>SDB Films-El Hombre Orquesta</td>\n",
       "      <td>Universal Pictures-Blumhouse Productions-Atomi...</td>\n",
       "    </tr>\n",
       "    <tr>\n",
       "      <th>release_date</th>\n",
       "      <td>2022-11-09</td>\n",
       "      <td>2022-12-07</td>\n",
       "      <td>2023-01-12</td>\n",
       "      <td>2022-04-29</td>\n",
       "      <td>2022-12-28</td>\n",
       "    </tr>\n",
       "    <tr>\n",
       "      <th>budget</th>\n",
       "      <td>250000000.0</td>\n",
       "      <td>90000000.0</td>\n",
       "      <td>25000000.0</td>\n",
       "      <td>0.0</td>\n",
       "      <td>12000000.0</td>\n",
       "    </tr>\n",
       "    <tr>\n",
       "      <th>revenue</th>\n",
       "      <td>855099029.0</td>\n",
       "      <td>442000000.0</td>\n",
       "      <td>46000000.0</td>\n",
       "      <td>0.0</td>\n",
       "      <td>167643991.0</td>\n",
       "    </tr>\n",
       "    <tr>\n",
       "      <th>runtime</th>\n",
       "      <td>162.0</td>\n",
       "      <td>103.0</td>\n",
       "      <td>107.0</td>\n",
       "      <td>0.0</td>\n",
       "      <td>102.0</td>\n",
       "    </tr>\n",
       "    <tr>\n",
       "      <th>status</th>\n",
       "      <td>Released</td>\n",
       "      <td>Released</td>\n",
       "      <td>Released</td>\n",
       "      <td>Released</td>\n",
       "      <td>Released</td>\n",
       "    </tr>\n",
       "    <tr>\n",
       "      <th>tagline</th>\n",
       "      <td>Forever.</td>\n",
       "      <td>Say hola to his little friends.</td>\n",
       "      <td>Survive together or die alone.</td>\n",
       "      <td>NaN</td>\n",
       "      <td>Friendship has evolved.</td>\n",
       "    </tr>\n",
       "    <tr>\n",
       "      <th>vote_average</th>\n",
       "      <td>7.403</td>\n",
       "      <td>8.461</td>\n",
       "      <td>6.851</td>\n",
       "      <td>4.6</td>\n",
       "      <td>7.51</td>\n",
       "    </tr>\n",
       "    <tr>\n",
       "      <th>vote_count</th>\n",
       "      <td>3586.0</td>\n",
       "      <td>4047.0</td>\n",
       "      <td>652.0</td>\n",
       "      <td>10.0</td>\n",
       "      <td>1794.0</td>\n",
       "    </tr>\n",
       "    <tr>\n",
       "      <th>credits</th>\n",
       "      <td>Letitia Wright-Lupita Nyong'o-Danai Gurira-Win...</td>\n",
       "      <td>Antonio Banderas-Salma Hayek-Harvey Guillén-Wa...</td>\n",
       "      <td>Gerard Butler-Mike Colter-Yoson An-Tony Goldwy...</td>\n",
       "      <td>Maite Perroni-Manuel Vega-Óscar Jaenada-Jessic...</td>\n",
       "      <td>Allison Williams-Violet McGraw-Jenna Davis-Ami...</td>\n",
       "    </tr>\n",
       "    <tr>\n",
       "      <th>keywords</th>\n",
       "      <td>loss of loved one-hero-sequel-superhero-based ...</td>\n",
       "      <td>fairy tale-talking dog-spin off-aftercreditsst...</td>\n",
       "      <td>philippines-held hostage-plane crash</td>\n",
       "      <td>NaN</td>\n",
       "      <td>evil doll-aunt niece relationship-orphan-car a...</td>\n",
       "    </tr>\n",
       "    <tr>\n",
       "      <th>poster_path</th>\n",
       "      <td>/sv1xJUazXeYqALzczSZ3O6nkH75.jpg</td>\n",
       "      <td>/kuf6dutpsT0vSVehic3EZIqkOBt.jpg</td>\n",
       "      <td>/qi9r5xBgcc9KTxlOLjssEbDgO0J.jpg</td>\n",
       "      <td>/8tc8eMFAX2SDC1TRu987qFQy8Cl.jpg</td>\n",
       "      <td>/d9nBoowhjiiYc4FBNtQkPY7c11H.jpg</td>\n",
       "    </tr>\n",
       "    <tr>\n",
       "      <th>backdrop_path</th>\n",
       "      <td>/xDMIl84Qo5Tsu62c9DGWhmPI67A.jpg</td>\n",
       "      <td>/b1Y8SUb12gPHCSSSNlbX4nB3IKy.jpg</td>\n",
       "      <td>/9Rq14Eyrf7Tu1xk0Pl7VcNbNh1n.jpg</td>\n",
       "      <td>/kLnqNE9Af5QHyvUxw8cDGhF1ilv.jpg</td>\n",
       "      <td>/j9j7a5rnIKaFiWbuMzC41xgFE4r.jpg</td>\n",
       "    </tr>\n",
       "    <tr>\n",
       "      <th>recommendations</th>\n",
       "      <td>436270-829280-76600-56969-312634-1037858-238-5...</td>\n",
       "      <td>536554-76600-816904-653851-899112-985335-83078...</td>\n",
       "      <td>937278-536554-653851-615777-9740-593643-555604...</td>\n",
       "      <td>NaN</td>\n",
       "      <td>846433-925943-816904-937278-814757-315162-6538...</td>\n",
       "    </tr>\n",
       "  </tbody>\n",
       "</table>\n",
       "</div>"
      ],
      "text/plain": [
       "                                                                      0  \\\n",
       "id                                                               505642   \n",
       "title                                    Black Panther: Wakanda Forever   \n",
       "genres                                 Action-Adventure-Science Fiction   \n",
       "original_language                                                    en   \n",
       "overview              Queen Ramonda Shuri M’Baku Okoye and the Dora ...   \n",
       "popularity                                                     3952.862   \n",
       "production_companies                                     Marvel Studios   \n",
       "release_date                                                 2022-11-09   \n",
       "budget                                                      250000000.0   \n",
       "revenue                                                     855099029.0   \n",
       "runtime                                                           162.0   \n",
       "status                                                         Released   \n",
       "tagline                                                        Forever.   \n",
       "vote_average                                                      7.403   \n",
       "vote_count                                                       3586.0   \n",
       "credits               Letitia Wright-Lupita Nyong'o-Danai Gurira-Win...   \n",
       "keywords              loss of loved one-hero-sequel-superhero-based ...   \n",
       "poster_path                            /sv1xJUazXeYqALzczSZ3O6nkH75.jpg   \n",
       "backdrop_path                          /xDMIl84Qo5Tsu62c9DGWhmPI67A.jpg   \n",
       "recommendations       436270-829280-76600-56969-312634-1037858-238-5...   \n",
       "\n",
       "                                                                      1  \\\n",
       "id                                                               315162   \n",
       "title                                      Puss in Boots: The Last Wish   \n",
       "genres                                       Animation-Adventure-Comedy   \n",
       "original_language                                                    en   \n",
       "overview              Puss in Boots discovers that his passion for a...   \n",
       "popularity                                                     3351.139   \n",
       "production_companies            Universal Pictures-DreamWorks Animation   \n",
       "release_date                                                 2022-12-07   \n",
       "budget                                                       90000000.0   \n",
       "revenue                                                     442000000.0   \n",
       "runtime                                                           103.0   \n",
       "status                                                         Released   \n",
       "tagline                                 Say hola to his little friends.   \n",
       "vote_average                                                      8.461   \n",
       "vote_count                                                       4047.0   \n",
       "credits               Antonio Banderas-Salma Hayek-Harvey Guillén-Wa...   \n",
       "keywords              fairy tale-talking dog-spin off-aftercreditsst...   \n",
       "poster_path                            /kuf6dutpsT0vSVehic3EZIqkOBt.jpg   \n",
       "backdrop_path                          /b1Y8SUb12gPHCSSSNlbX4nB3IKy.jpg   \n",
       "recommendations       536554-76600-816904-653851-899112-985335-83078...   \n",
       "\n",
       "                                                                      2  \\\n",
       "id                                                               646389   \n",
       "title                                                             Plane   \n",
       "genres                                        Action-Adventure-Thriller   \n",
       "original_language                                                    en   \n",
       "overview              After a heroic job of successfully landing his...   \n",
       "popularity                                                     3337.265   \n",
       "production_companies  Di Bonaventura Pictures-MadRiver Pictures-Rive...   \n",
       "release_date                                                 2023-01-12   \n",
       "budget                                                       25000000.0   \n",
       "revenue                                                      46000000.0   \n",
       "runtime                                                           107.0   \n",
       "status                                                         Released   \n",
       "tagline                                  Survive together or die alone.   \n",
       "vote_average                                                      6.851   \n",
       "vote_count                                                        652.0   \n",
       "credits               Gerard Butler-Mike Colter-Yoson An-Tony Goldwy...   \n",
       "keywords                           philippines-held hostage-plane crash   \n",
       "poster_path                            /qi9r5xBgcc9KTxlOLjssEbDgO0J.jpg   \n",
       "backdrop_path                          /9Rq14Eyrf7Tu1xk0Pl7VcNbNh1n.jpg   \n",
       "recommendations       937278-536554-653851-615777-9740-593643-555604...   \n",
       "\n",
       "                                                                      3  \\\n",
       "id                                                               956101   \n",
       "title                                                 The Eighth Clause   \n",
       "genres                                                         Thriller   \n",
       "original_language                                                    la   \n",
       "overview              Kat and Borja appear to be a perfect couple bu...   \n",
       "popularity                                                     2259.303   \n",
       "production_companies                       SDB Films-El Hombre Orquesta   \n",
       "release_date                                                 2022-04-29   \n",
       "budget                                                              0.0   \n",
       "revenue                                                             0.0   \n",
       "runtime                                                             0.0   \n",
       "status                                                         Released   \n",
       "tagline                                                             NaN   \n",
       "vote_average                                                        4.6   \n",
       "vote_count                                                         10.0   \n",
       "credits               Maite Perroni-Manuel Vega-Óscar Jaenada-Jessic...   \n",
       "keywords                                                            NaN   \n",
       "poster_path                            /8tc8eMFAX2SDC1TRu987qFQy8Cl.jpg   \n",
       "backdrop_path                          /kLnqNE9Af5QHyvUxw8cDGhF1ilv.jpg   \n",
       "recommendations                                                     NaN   \n",
       "\n",
       "                                                                      4  \n",
       "id                                                               536554  \n",
       "title                                                             M3GAN  \n",
       "genres                                    Science Fiction-Horror-Comedy  \n",
       "original_language                                                    en  \n",
       "overview              A brilliant toy company roboticist uses artifi...  \n",
       "popularity                                                     1836.162  \n",
       "production_companies  Universal Pictures-Blumhouse Productions-Atomi...  \n",
       "release_date                                                 2022-12-28  \n",
       "budget                                                       12000000.0  \n",
       "revenue                                                     167643991.0  \n",
       "runtime                                                           102.0  \n",
       "status                                                         Released  \n",
       "tagline                                         Friendship has evolved.  \n",
       "vote_average                                                       7.51  \n",
       "vote_count                                                       1794.0  \n",
       "credits               Allison Williams-Violet McGraw-Jenna Davis-Ami...  \n",
       "keywords              evil doll-aunt niece relationship-orphan-car a...  \n",
       "poster_path                            /d9nBoowhjiiYc4FBNtQkPY7c11H.jpg  \n",
       "backdrop_path                          /j9j7a5rnIKaFiWbuMzC41xgFE4r.jpg  \n",
       "recommendations       846433-925943-816904-937278-814757-315162-6538...  "
      ]
     },
     "execution_count": 3,
     "metadata": {},
     "output_type": "execute_result"
    }
   ],
   "source": [
    "df = pd.read_csv('movies.csv')\n",
    "df.head().T"
   ]
  },
  {
   "cell_type": "code",
   "execution_count": 4,
   "id": "54378db9",
   "metadata": {},
   "outputs": [
    {
     "data": {
      "text/plain": [
       "Index(['id', 'title', 'genres', 'original_language', 'overview', 'popularity',\n",
       "       'production_companies', 'release_date', 'budget', 'revenue', 'runtime',\n",
       "       'status', 'tagline', 'vote_average', 'vote_count', 'credits',\n",
       "       'keywords', 'poster_path', 'backdrop_path', 'recommendations'],\n",
       "      dtype='object')"
      ]
     },
     "execution_count": 4,
     "metadata": {},
     "output_type": "execute_result"
    }
   ],
   "source": [
    "df.columns\n",
    "\n"
   ]
  },
  {
   "cell_type": "code",
   "execution_count": 5,
   "id": "ad25e5c7",
   "metadata": {},
   "outputs": [
    {
     "data": {
      "text/plain": [
       "(724194, 20)"
      ]
     },
     "execution_count": 5,
     "metadata": {},
     "output_type": "execute_result"
    }
   ],
   "source": [
    "df.shape"
   ]
  },
  {
   "cell_type": "code",
   "execution_count": 6,
   "id": "777595bb",
   "metadata": {},
   "outputs": [],
   "source": [
    "df = df.drop(['id','recommendations','backdrop_path','status','tagline'], axis=1)\n"
   ]
  },
  {
   "cell_type": "code",
   "execution_count": 8,
   "id": "ba13e929",
   "metadata": {},
   "outputs": [],
   "source": [
    "df = df.drop(['keywords'], axis=1)"
   ]
  },
  {
   "cell_type": "code",
   "execution_count": 9,
   "id": "e5b138d4",
   "metadata": {},
   "outputs": [
    {
     "data": {
      "text/plain": [
       "(724194, 14)"
      ]
     },
     "execution_count": 9,
     "metadata": {},
     "output_type": "execute_result"
    }
   ],
   "source": [
    "df.shape"
   ]
  },
  {
   "cell_type": "code",
   "execution_count": 10,
   "id": "1d2f3b5d",
   "metadata": {},
   "outputs": [],
   "source": [
    "df = df.dropna()"
   ]
  },
  {
   "cell_type": "code",
   "execution_count": 11,
   "id": "c3db5cf3",
   "metadata": {},
   "outputs": [
    {
     "data": {
      "text/plain": [
       "(215997, 14)"
      ]
     },
     "execution_count": 11,
     "metadata": {},
     "output_type": "execute_result"
    }
   ],
   "source": [
    "df.shape"
   ]
  },
  {
   "cell_type": "code",
   "execution_count": 13,
   "id": "db91b6bc",
   "metadata": {},
   "outputs": [
    {
     "data": {
      "text/plain": [
       "(201632, 14)"
      ]
     },
     "execution_count": 13,
     "metadata": {},
     "output_type": "execute_result"
    }
   ],
   "source": [
    "df[df['revenue'] == 0].shape\n"
   ]
  },
  {
   "cell_type": "code",
   "execution_count": 14,
   "id": "deb2e9ab",
   "metadata": {},
   "outputs": [],
   "source": [
    "df['revenue'] = df['revenue'].replace(0, np.nan)\n"
   ]
  },
  {
   "cell_type": "code",
   "execution_count": 15,
   "id": "fd2dfffd",
   "metadata": {},
   "outputs": [
    {
     "data": {
      "text/plain": [
       "(193747, 14)"
      ]
     },
     "execution_count": 15,
     "metadata": {},
     "output_type": "execute_result"
    }
   ],
   "source": [
    "df['budget'] = pd.to_numeric(df['budget'], errors='coerce')\n",
    "df['budget'] = df['budget'].replace(0, np.nan)\n",
    "df[df['budget'].isnull()].shape"
   ]
  },
  {
   "cell_type": "code",
   "execution_count": 16,
   "id": "c611764d",
   "metadata": {},
   "outputs": [
    {
     "data": {
      "text/plain": [
       "(206513, 15)"
      ]
     },
     "execution_count": 16,
     "metadata": {},
     "output_type": "execute_result"
    }
   ],
   "source": [
    "df['return'] = df['revenue'] / df['budget']\n",
    "df[df['return'].isnull()].shape"
   ]
  },
  {
   "cell_type": "code",
   "execution_count": 22,
   "id": "3895fcea",
   "metadata": {},
   "outputs": [],
   "source": [
    "df['runtime'] = df['runtime'].replace(0, np.nan)"
   ]
  },
  {
   "cell_type": "code",
   "execution_count": 23,
   "id": "010ab33a",
   "metadata": {},
   "outputs": [],
   "source": [
    "df = df.dropna()"
   ]
  },
  {
   "cell_type": "code",
   "execution_count": 33,
   "id": "ea482a2e",
   "metadata": {},
   "outputs": [
    {
     "ename": "NameError",
     "evalue": "name 'application_df' is not defined",
     "output_type": "error",
     "traceback": [
      "\u001b[0;31m---------------------------------------------------------------------------\u001b[0m",
      "\u001b[0;31mNameError\u001b[0m                                 Traceback (most recent call last)",
      "Input \u001b[0;32mIn [33]\u001b[0m, in \u001b[0;36m<cell line: 2>\u001b[0;34m()\u001b[0m\n\u001b[1;32m      1\u001b[0m \u001b[38;5;66;03m# Look at APPLICATION_TYPE value counts for binning\u001b[39;00m\n\u001b[0;32m----> 2\u001b[0m application_counts \u001b[38;5;241m=\u001b[39m \u001b[43mapplication_df\u001b[49m[\u001b[38;5;124m\"\u001b[39m\u001b[38;5;124mAPPLICATION_TYPE\u001b[39m\u001b[38;5;124m\"\u001b[39m]\u001b[38;5;241m.\u001b[39mvalue_counts()\n",
      "\u001b[0;31mNameError\u001b[0m: name 'application_df' is not defined"
     ]
    }
   ],
   "source": [
    "# Look at APPLICATION_TYPE value counts for binning\n",
    "application_counts = application_df[\"APPLICATION_TYPE\"].value_counts()\n",
    "# Choose a cutoff value and create a list of application types to be replaced\n",
    "# use the variable name `application_types_to_replace`\n",
    "application_types_to_replace = list(application_counts[application_counts<500].index)\n",
    "\n",
    "# Replace in dataframe\n",
    "for app in application_types_to_replace:\n",
    "    application_df['APPLICATION_TYPE'] = application_df['APPLICATION_TYPE'].replace(app,\"Other\")\n",
    "\n",
    "# Check to make sure binning was successful\n",
    "application_df['APPLICATION_TYPE'].value_counts()"
   ]
  },
  {
   "cell_type": "markdown",
   "id": "fbd2ae38",
   "metadata": {},
   "source": [
    "Model"
   ]
  },
  {
   "cell_type": "code",
   "execution_count": null,
   "id": "a73aece6",
   "metadata": {},
   "outputs": [],
   "source": []
  },
  {
   "cell_type": "code",
   "execution_count": null,
   "id": "a59a3048",
   "metadata": {},
   "outputs": [],
   "source": []
  },
  {
   "cell_type": "code",
   "execution_count": null,
   "id": "6db5968c",
   "metadata": {},
   "outputs": [],
   "source": []
  },
  {
   "cell_type": "code",
   "execution_count": null,
   "id": "54aa6c1e",
   "metadata": {},
   "outputs": [],
   "source": []
  },
  {
   "cell_type": "code",
   "execution_count": null,
   "id": "01b830c2",
   "metadata": {},
   "outputs": [],
   "source": []
  },
  {
   "cell_type": "code",
   "execution_count": null,
   "id": "54d291b7",
   "metadata": {},
   "outputs": [],
   "source": []
  },
  {
   "cell_type": "code",
   "execution_count": null,
   "id": "de460159",
   "metadata": {},
   "outputs": [],
   "source": []
  },
  {
   "cell_type": "code",
   "execution_count": null,
   "id": "bb7c21a4",
   "metadata": {},
   "outputs": [],
   "source": []
  },
  {
   "cell_type": "code",
   "execution_count": null,
   "id": "ee03e5e4",
   "metadata": {},
   "outputs": [],
   "source": []
  },
  {
   "cell_type": "code",
   "execution_count": null,
   "id": "892e8223",
   "metadata": {},
   "outputs": [],
   "source": []
  },
  {
   "cell_type": "code",
   "execution_count": null,
   "id": "d6cf5ac9",
   "metadata": {},
   "outputs": [],
   "source": []
  },
  {
   "cell_type": "code",
   "execution_count": 26,
   "id": "4a3bf44a",
   "metadata": {},
   "outputs": [],
   "source": [
    "df['year'] = pd.to_datetime(df['release_date'], errors='coerce').apply(lambda x: str(x).split('-')[0] if x != np.nan else np.nan)\n"
   ]
  },
  {
   "cell_type": "code",
   "execution_count": 27,
   "id": "e56123b8",
   "metadata": {},
   "outputs": [],
   "source": [
    "base_poster_url = 'http://image.tmdb.org/t/p/w185/'\n",
    "df['poster_path'] = \"<img src='\" + base_poster_url + df['poster_path'] + \"' style='height:100px;'>\""
   ]
  },
  {
   "cell_type": "code",
   "execution_count": 28,
   "id": "5a3eb776",
   "metadata": {},
   "outputs": [],
   "source": [
    "df['title'] = df['title'].astype('str')\n",
    "df['overview'] = df['overview'].astype('str')"
   ]
  },
  {
   "cell_type": "code",
   "execution_count": null,
   "id": "1b911268",
   "metadata": {},
   "outputs": [],
   "source": [
    "title_corpus = ' '.join(df['title'])\n",
    "overview_corpus = ' '.join(df['overview'])"
   ]
  },
  {
   "cell_type": "code",
   "execution_count": null,
   "id": "74fea483",
   "metadata": {},
   "outputs": [],
   "source": [
    "title_wordcloud = WordCloud(stopwords=STOPWORDS, background_color='white', height=2000, width=4000).generate(title_corpus)\n",
    "plt.figure(figsize=(16,8))\n",
    "plt.imshow(title_wordcloud)\n",
    "plt.axis('off')\n",
    "plt.show()"
   ]
  },
  {
   "cell_type": "code",
   "execution_count": null,
   "id": "accf0019",
   "metadata": {},
   "outputs": [],
   "source": [
    "overview_wordcloud = WordCloud(stopwords=STOPWORDS, background_color='white', height=2000, width=4000).generate(overview_corpus)\n",
    "plt.figure(figsize=(16,8))\n",
    "plt.imshow(overview_wordcloud)\n",
    "plt.axis('off')\n",
    "plt.show()"
   ]
  },
  {
   "cell_type": "code",
   "execution_count": null,
   "id": "8d2ca132",
   "metadata": {},
   "outputs": [],
   "source": [
    "def clean_numeric(x):\n",
    "    try:\n",
    "        return float(x)\n",
    "    except:\n",
    "        return np.nan"
   ]
  },
  {
   "cell_type": "code",
   "execution_count": null,
   "id": "fea3a28b",
   "metadata": {},
   "outputs": [],
   "source": [
    "df['popularity'] = df['popularity'].apply(clean_numeric).astype('float')\n",
    "df['vote_count'] = df['vote_count'].apply(clean_numeric).astype('float')\n",
    "df['vote_average'] = df['vote_average'].apply(clean_numeric).astype('float')"
   ]
  },
  {
   "cell_type": "code",
   "execution_count": null,
   "id": "25705527",
   "metadata": {},
   "outputs": [],
   "source": [
    "df['popularity'].describe()\n"
   ]
  },
  {
   "cell_type": "code",
   "execution_count": null,
   "id": "2fde0b8a",
   "metadata": {},
   "outputs": [],
   "source": [
    "sns.distplot(df['popularity'].fillna(df['popularity'].median()))\n",
    "plt.show()"
   ]
  },
  {
   "cell_type": "code",
   "execution_count": null,
   "id": "d4c69088",
   "metadata": {},
   "outputs": [],
   "source": [
    "df['popularity'].plot(logy=True, kind='hist')\n"
   ]
  },
  {
   "cell_type": "code",
   "execution_count": null,
   "id": "558e69ff",
   "metadata": {
    "scrolled": true
   },
   "outputs": [],
   "source": [
    "df[['title', 'popularity', 'year']].sort_values('popularity', ascending=False).head(10)\n"
   ]
  },
  {
   "cell_type": "code",
   "execution_count": null,
   "id": "81f5b473",
   "metadata": {},
   "outputs": [],
   "source": [
    "df['vote_count'].describe()\n"
   ]
  },
  {
   "cell_type": "code",
   "execution_count": null,
   "id": "d231e7e8",
   "metadata": {},
   "outputs": [],
   "source": [
    "df[['title', 'vote_count', 'year']].sort_values('vote_count', ascending=False).head(10)\n"
   ]
  },
  {
   "cell_type": "code",
   "execution_count": null,
   "id": "fb1d0945",
   "metadata": {
    "scrolled": true
   },
   "outputs": [],
   "source": [
    "df['vote_average'] = df['vote_average'].replace(0, np.nan)\n",
    "df['vote_average'].describe()"
   ]
  },
  {
   "cell_type": "code",
   "execution_count": null,
   "id": "dd222094",
   "metadata": {},
   "outputs": [],
   "source": [
    "sns.distplot(df['vote_average'].fillna(df['vote_average'].median()))\n"
   ]
  },
  {
   "cell_type": "code",
   "execution_count": null,
   "id": "7110df01",
   "metadata": {},
   "outputs": [],
   "source": [
    "df[df['vote_count'] > 2000][['title', 'vote_average', 'vote_count' ,'year']].sort_values('vote_average', ascending=False).head(10)\n"
   ]
  },
  {
   "cell_type": "code",
   "execution_count": null,
   "id": "257415b1",
   "metadata": {},
   "outputs": [],
   "source": [
    "sns.jointplot(x='vote_average', y='popularity', data=df)\n"
   ]
  },
  {
   "cell_type": "code",
   "execution_count": null,
   "id": "c7e53e15",
   "metadata": {},
   "outputs": [],
   "source": [
    "sns.jointplot(x='vote_average', y='vote_count', data=df)\n"
   ]
  },
  {
   "cell_type": "code",
   "execution_count": null,
   "id": "4cc9d283",
   "metadata": {},
   "outputs": [],
   "source": [
    "month_order = ['Jan', 'Feb', 'Mar', 'Apr', 'May', 'Jun', 'Jul', 'Aug', 'Sep', 'Oct', 'Nov', 'Dec']\n",
    "day_order = ['Mon', 'Tue', 'Wed', 'Thu', 'Fri', 'Sat', 'Sun']"
   ]
  },
  {
   "cell_type": "code",
   "execution_count": null,
   "id": "90665ac6",
   "metadata": {},
   "outputs": [],
   "source": [
    "def get_month(x):\n",
    "    try:\n",
    "        return month_order[int(str(x).split('-')[1]) - 1]\n",
    "    except:\n",
    "        return np.nan\n"
   ]
  },
  {
   "cell_type": "code",
   "execution_count": null,
   "id": "8e33f849",
   "metadata": {},
   "outputs": [],
   "source": [
    "def get_day(x):\n",
    "    try:\n",
    "        year, month, day = (int(i) for i in x.split('-'))    \n",
    "        answer = datetime.date(year, month, day).weekday()\n",
    "        return day_order[answer]\n",
    "    except:\n",
    "        return np.nan"
   ]
  },
  {
   "cell_type": "code",
   "execution_count": null,
   "id": "38e8ca26",
   "metadata": {},
   "outputs": [],
   "source": [
    "df['day'] = df['release_date'].apply(get_day)\n",
    "df['month'] = df['release_date'].apply(get_month)"
   ]
  },
  {
   "cell_type": "code",
   "execution_count": null,
   "id": "0846d879",
   "metadata": {},
   "outputs": [],
   "source": [
    "plt.figure(figsize=(12,6))\n",
    "plt.title(\"Number of Movies released in a particular month.\")\n",
    "sns.countplot(x='month', data=df, order=month_order)"
   ]
  },
  {
   "cell_type": "code",
   "execution_count": null,
   "id": "266d300d",
   "metadata": {},
   "outputs": [],
   "source": [
    "month_mean = pd.DataFrame(df[df['revenue'] > 1e8].groupby('month')['revenue'].mean())\n",
    "month_mean['mon'] = month_mean.index\n",
    "plt.figure(figsize=(12,6))\n",
    "plt.title(\"Average Gross by the Month for Blockbuster Movies\")\n",
    "sns.barplot(x='mon', y='revenue', data=month_mean, order=month_order)"
   ]
  },
  {
   "cell_type": "code",
   "execution_count": null,
   "id": "e3e31eb5",
   "metadata": {},
   "outputs": [],
   "source": [
    "fig, ax = plt.subplots(nrows=1, ncols=1,figsize=(15, 8))\n",
    "sns.boxplot(x='month', y='return', data=df[df['return'].notnull()], palette=\"muted\", ax =ax, order=month_order)\n",
    "ax.set_ylim([0, 12])"
   ]
  },
  {
   "cell_type": "code",
   "execution_count": null,
   "id": "e4286b98",
   "metadata": {},
   "outputs": [],
   "source": [
    "plt.figure(figsize=(10,5))\n",
    "plt.title(\"Number of Movies released on a particular day.\")\n",
    "sns.countplot(x='day', data=df, order=day_order)"
   ]
  },
  {
   "cell_type": "code",
   "execution_count": null,
   "id": "3a8b4053",
   "metadata": {},
   "outputs": [],
   "source": [
    "year_count = df.groupby('year')['title'].count()\n",
    "plt.figure(figsize=(18,5))\n",
    "year_count.plot()"
   ]
  },
  {
   "cell_type": "code",
   "execution_count": null,
   "id": "401e8a26",
   "metadata": {},
   "outputs": [],
   "source": [
    "df[df['year'] != 'NaT'][['title', 'year']].sort_values('year').head(10)\n"
   ]
  },
  {
   "cell_type": "code",
   "execution_count": null,
   "id": "ca3fd358",
   "metadata": {},
   "outputs": [],
   "source": [
    "months = {'Jan': 1, 'Feb': 2, 'Mar': 3, 'Apr': 4, 'May': 5, 'Jun': 6, 'Jul': 7, 'Aug': 8, 'Sep': 9, 'Oct': 10, 'Nov': 11, 'Dec': 12}\n"
   ]
  },
  {
   "cell_type": "code",
   "execution_count": null,
   "id": "52e85e99",
   "metadata": {},
   "outputs": [],
   "source": [
    "df_21 = df.copy()\n",
    "df_21['year'] = df_21[df_21['year'] != 'NaT']['year'].astype(int)\n",
    "df_21 = df_21[df_21['year'] >=2000]\n",
    "hmap_21 = pd.pivot_table(data=df_21, index='month', columns='year', aggfunc='count', values='title')\n",
    "hmap_21 = hmap_21.fillna(0)\n"
   ]
  },
  {
   "cell_type": "code",
   "execution_count": null,
   "id": "4ae386e9",
   "metadata": {},
   "outputs": [],
   "source": [
    "sns.set(font_scale=1)\n",
    "f, ax = plt.subplots(figsize=(16, 8))\n",
    "sns.heatmap(hmap_21, annot=True, linewidths=.5, ax=ax, fmt='n', yticklabels=month_order)"
   ]
  },
  {
   "cell_type": "code",
   "execution_count": null,
   "id": "3c27113b",
   "metadata": {},
   "outputs": [],
   "source": [
    "sns.set(font_scale=1.25)\n"
   ]
  },
  {
   "cell_type": "code",
   "execution_count": null,
   "id": "368eb920",
   "metadata": {},
   "outputs": [],
   "source": [
    "df['runtime'].describe()\n"
   ]
  },
  {
   "cell_type": "code",
   "execution_count": null,
   "id": "98ffd9b1",
   "metadata": {},
   "outputs": [],
   "source": [
    "df['runtime'] = df['runtime'].astype('float')\n"
   ]
  },
  {
   "cell_type": "code",
   "execution_count": null,
   "id": "543cf57f",
   "metadata": {},
   "outputs": [],
   "source": [
    "plt.figure(figsize=(12,6))\n",
    "sns.distplot(df[(df['runtime'] < 300) & (df['runtime'] > 0)]['runtime'])"
   ]
  },
  {
   "cell_type": "code",
   "execution_count": null,
   "id": "c3f03031",
   "metadata": {},
   "outputs": [],
   "source": [
    "df_mat = df[(df['return'].notnull()) & (df['runtime'] > 0) & (df['return'] < 10)]\n",
    "sns.jointplot('return', 'runtime', data=df_mat)\n",
    "plt.show()\n"
   ]
  },
  {
   "cell_type": "code",
   "execution_count": null,
   "id": "3357d182",
   "metadata": {},
   "outputs": [],
   "source": [
    "df_mat = df[(df['budget'].notnull()) & (df['runtime'] > 0)]\n",
    "sns.jointplot('budget', 'runtime', data=df_mat)\n",
    "plt.show()"
   ]
  },
  {
   "cell_type": "code",
   "execution_count": null,
   "id": "a2b29f60",
   "metadata": {},
   "outputs": [],
   "source": [
    "plt.figure(figsize=(18,5))\n",
    "year_runtime = df[df['year'] != 'NaT'].groupby('year')['runtime'].mean()\n",
    "plt.plot(year_runtime.index, year_runtime)\n",
    "plt.xticks(np.arange(1874, 2024, 10.0))\n",
    "plt.show()"
   ]
  },
  {
   "cell_type": "code",
   "execution_count": null,
   "id": "358591ec",
   "metadata": {},
   "outputs": [],
   "source": [
    "df[df['runtime'] > 0][['runtime', 'title', 'year']].sort_values('runtime').head(10)\n"
   ]
  },
  {
   "cell_type": "code",
   "execution_count": null,
   "id": "1922b3c7",
   "metadata": {},
   "outputs": [],
   "source": [
    "df[df['runtime'] > 0][['runtime', 'title', 'year']].sort_values('runtime', ascending=False).head(10)"
   ]
  },
  {
   "cell_type": "code",
   "execution_count": null,
   "id": "05416178",
   "metadata": {},
   "outputs": [],
   "source": [
    "df['budget'].describe()\n"
   ]
  },
  {
   "cell_type": "code",
   "execution_count": null,
   "id": "162fefe8",
   "metadata": {},
   "outputs": [],
   "source": [
    "sns.distplot(df[df['budget'].notnull()]['budget'])\n"
   ]
  },
  {
   "cell_type": "code",
   "execution_count": null,
   "id": "24fa1567",
   "metadata": {},
   "outputs": [],
   "source": [
    "df['budget'].plot(logy=True, kind='hist')\n"
   ]
  },
  {
   "cell_type": "code",
   "execution_count": null,
   "id": "304f0433",
   "metadata": {},
   "outputs": [],
   "source": [
    "df[df['budget'].notnull()][['title', 'budget', 'revenue', 'return', 'year']].sort_values('budget', ascending=False).head(10)\n"
   ]
  },
  {
   "cell_type": "code",
   "execution_count": null,
   "id": "f7c98994",
   "metadata": {},
   "outputs": [],
   "source": [
    "sns.jointplot(x='budget',y='revenue',data=df[df['return'].notnull()])\n"
   ]
  },
  {
   "cell_type": "code",
   "execution_count": null,
   "id": "a317110d",
   "metadata": {},
   "outputs": [],
   "source": [
    "df['revenue'].describe()\n"
   ]
  },
  {
   "cell_type": "code",
   "execution_count": null,
   "id": "41bb291d",
   "metadata": {},
   "outputs": [],
   "source": [
    "sns.distplot(df[df['revenue'].notnull()]['revenue'])\n"
   ]
  },
  {
   "cell_type": "code",
   "execution_count": null,
   "id": "c15d2c87",
   "metadata": {},
   "outputs": [],
   "source": [
    "gross_top = df[['poster_path', 'title', 'budget', 'revenue', 'year']].sort_values('revenue', ascending=False).head(10)\n",
    "pd.set_option('display.max_colwidth', 100)\n",
    "HTML(gross_top.to_html(escape=False))"
   ]
  },
  {
   "cell_type": "code",
   "execution_count": null,
   "id": "284f4a2e",
   "metadata": {},
   "outputs": [],
   "source": [
    "pd.set_option('display.max_colwidth', 50)\n"
   ]
  },
  {
   "cell_type": "code",
   "execution_count": null,
   "id": "512d2106",
   "metadata": {
    "scrolled": true
   },
   "outputs": [],
   "source": [
    "plt.figure(figsize=(18,5))\n",
    "year_revenue = df[(df['revenue'].notnull()) & (df['year'] != 'NaT')].groupby('year')['revenue'].max()\n",
    "plt.plot(year_revenue.index, year_revenue)\n",
    "plt.show()"
   ]
  },
  {
   "cell_type": "code",
   "execution_count": null,
   "id": "de38feba",
   "metadata": {
    "scrolled": true
   },
   "outputs": [],
   "source": [
    "df[(df['return'].notnull()) & (df['budget'] > 5e6)][['title', 'budget', 'revenue', 'return', 'year']].sort_values('return', ascending=False).head(10)"
   ]
  },
  {
   "cell_type": "code",
   "execution_count": null,
   "id": "7fbacd32",
   "metadata": {
    "scrolled": true
   },
   "outputs": [],
   "source": [
    "df[(df['return'].notnull()) & (df['budget'] > 5e6) & (df['revenue'] > 10000)][['title', 'budget', 'revenue', 'return', 'year']].sort_values('return').head(10)"
   ]
  },
  {
   "cell_type": "code",
   "execution_count": null,
   "id": "91461db6",
   "metadata": {},
   "outputs": [],
   "source": [
    "df['year'] = df['year'].replace('NaT', np.nan)\n"
   ]
  },
  {
   "cell_type": "code",
   "execution_count": null,
   "id": "edf6e66d",
   "metadata": {},
   "outputs": [],
   "source": [
    "df['year'] = df['year'].apply(clean_numeric)\n"
   ]
  },
  {
   "cell_type": "code",
   "execution_count": null,
   "id": "79eb9ed7",
   "metadata": {},
   "outputs": [],
   "source": [
    "sns.set(font_scale=1)\n",
    "corr = df.corr()\n",
    "mask = np.zeros_like(corr)\n",
    "mask[np.triu_indices_from(mask)] = True\n",
    "with sns.axes_style(\"white\"):\n",
    "    plt.figure(figsize=(9,9))\n",
    "    ax = sns.heatmap(corr, mask=mask, vmax=.3, square=True, annot=True)"
   ]
  },
  {
   "cell_type": "code",
   "execution_count": null,
   "id": "d88f8c0e",
   "metadata": {},
   "outputs": [],
   "source": [
    "sns.set(font_scale=1.25)\n"
   ]
  },
  {
   "cell_type": "code",
   "execution_count": null,
   "id": "da251b89",
   "metadata": {},
   "outputs": [],
   "source": []
  }
 ],
 "metadata": {
  "kernelspec": {
   "display_name": "Python 3 (ipykernel)",
   "language": "python",
   "name": "python3"
  },
  "language_info": {
   "codemirror_mode": {
    "name": "ipython",
    "version": 3
   },
   "file_extension": ".py",
   "mimetype": "text/x-python",
   "name": "python",
   "nbconvert_exporter": "python",
   "pygments_lexer": "ipython3",
   "version": "3.9.12"
  }
 },
 "nbformat": 4,
 "nbformat_minor": 5
}
